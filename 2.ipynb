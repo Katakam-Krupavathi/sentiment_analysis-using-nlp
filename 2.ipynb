{
 "cells": [
  {
   "cell_type": "code",
   "execution_count": 1,
   "id": "aa2e437e-952d-44a1-b596-954520ef2de1",
   "metadata": {},
   "outputs": [
    {
     "data": {
      "text/html": [
       "<div>\n",
       "<style scoped>\n",
       "    .dataframe tbody tr th:only-of-type {\n",
       "        vertical-align: middle;\n",
       "    }\n",
       "\n",
       "    .dataframe tbody tr th {\n",
       "        vertical-align: top;\n",
       "    }\n",
       "\n",
       "    .dataframe thead th {\n",
       "        text-align: right;\n",
       "    }\n",
       "</style>\n",
       "<table border=\"1\" class=\"dataframe\">\n",
       "  <thead>\n",
       "    <tr style=\"text-align: right;\">\n",
       "      <th></th>\n",
       "      <th>Country</th>\n",
       "      <th>Age</th>\n",
       "      <th>Salary</th>\n",
       "      <th>Purchase</th>\n",
       "    </tr>\n",
       "  </thead>\n",
       "  <tbody>\n",
       "    <tr>\n",
       "      <th>0</th>\n",
       "      <td>France</td>\n",
       "      <td>44.0</td>\n",
       "      <td>72000.0</td>\n",
       "      <td>No</td>\n",
       "    </tr>\n",
       "    <tr>\n",
       "      <th>1</th>\n",
       "      <td>Spain</td>\n",
       "      <td>27.0</td>\n",
       "      <td>48000.0</td>\n",
       "      <td>Yes</td>\n",
       "    </tr>\n",
       "    <tr>\n",
       "      <th>2</th>\n",
       "      <td>Germany</td>\n",
       "      <td>30.0</td>\n",
       "      <td>54000.0</td>\n",
       "      <td>No</td>\n",
       "    </tr>\n",
       "    <tr>\n",
       "      <th>3</th>\n",
       "      <td>Spain</td>\n",
       "      <td>38.0</td>\n",
       "      <td>61000.0</td>\n",
       "      <td>No</td>\n",
       "    </tr>\n",
       "    <tr>\n",
       "      <th>4</th>\n",
       "      <td>Germany</td>\n",
       "      <td>40.0</td>\n",
       "      <td>NaN</td>\n",
       "      <td>Yes</td>\n",
       "    </tr>\n",
       "    <tr>\n",
       "      <th>5</th>\n",
       "      <td>France</td>\n",
       "      <td>35.0</td>\n",
       "      <td>58000.0</td>\n",
       "      <td>Yes</td>\n",
       "    </tr>\n",
       "    <tr>\n",
       "      <th>6</th>\n",
       "      <td>Spain</td>\n",
       "      <td>NaN</td>\n",
       "      <td>52000.0</td>\n",
       "      <td>No</td>\n",
       "    </tr>\n",
       "    <tr>\n",
       "      <th>7</th>\n",
       "      <td>NaN</td>\n",
       "      <td>48.0</td>\n",
       "      <td>79000.0</td>\n",
       "      <td>Yes</td>\n",
       "    </tr>\n",
       "    <tr>\n",
       "      <th>8</th>\n",
       "      <td>Germany</td>\n",
       "      <td>50.0</td>\n",
       "      <td>83000.0</td>\n",
       "      <td>No</td>\n",
       "    </tr>\n",
       "    <tr>\n",
       "      <th>9</th>\n",
       "      <td>India</td>\n",
       "      <td>42.0</td>\n",
       "      <td>85000.0</td>\n",
       "      <td>Yes</td>\n",
       "    </tr>\n",
       "    <tr>\n",
       "      <th>10</th>\n",
       "      <td>Spain</td>\n",
       "      <td>57.0</td>\n",
       "      <td>NaN</td>\n",
       "      <td>Yes</td>\n",
       "    </tr>\n",
       "    <tr>\n",
       "      <th>11</th>\n",
       "      <td>France</td>\n",
       "      <td>NaN</td>\n",
       "      <td>62000.0</td>\n",
       "      <td>No</td>\n",
       "    </tr>\n",
       "    <tr>\n",
       "      <th>12</th>\n",
       "      <td>India</td>\n",
       "      <td>43.0</td>\n",
       "      <td>79000.0</td>\n",
       "      <td>Yes</td>\n",
       "    </tr>\n",
       "    <tr>\n",
       "      <th>13</th>\n",
       "      <td>Germany</td>\n",
       "      <td>39.0</td>\n",
       "      <td>46000.0</td>\n",
       "      <td>No</td>\n",
       "    </tr>\n",
       "  </tbody>\n",
       "</table>\n",
       "</div>"
      ],
      "text/plain": [
       "    Country   Age   Salary Purchase\n",
       "0    France  44.0  72000.0       No\n",
       "1     Spain  27.0  48000.0      Yes\n",
       "2   Germany  30.0  54000.0       No\n",
       "3     Spain  38.0  61000.0       No\n",
       "4   Germany  40.0      NaN      Yes\n",
       "5    France  35.0  58000.0      Yes\n",
       "6     Spain   NaN  52000.0       No\n",
       "7       NaN  48.0  79000.0      Yes\n",
       "8   Germany  50.0  83000.0       No\n",
       "9     India  42.0  85000.0      Yes\n",
       "10    Spain  57.0      NaN      Yes\n",
       "11   France   NaN  62000.0       No\n",
       "12    India  43.0  79000.0      Yes\n",
       "13  Germany  39.0  46000.0       No"
      ]
     },
     "execution_count": 1,
     "metadata": {},
     "output_type": "execute_result"
    }
   ],
   "source": [
    "import pandas as pd\n",
    "import numpy as np\n",
    "df=pd.read_csv('Test.csv')\n",
    "df"
   ]
  },
  {
   "cell_type": "code",
   "execution_count": 2,
   "id": "d14780d8-fb5f-4d89-a475-eb3735e7d193",
   "metadata": {},
   "outputs": [],
   "source": [
    "from sklearn.preprocessing import StandardScaler,MinMaxScaler, LabelEncoder, OneHotEncoder"
   ]
  },
  {
   "cell_type": "code",
   "execution_count": 3,
   "id": "869734f6-33be-475b-8d86-c453984d22ad",
   "metadata": {},
   "outputs": [
    {
     "name": "stdout",
     "output_type": "stream",
     "text": [
      "    Country       Age    Salary Purchase\n",
      "0    France  0.364841  0.525664       No\n",
      "1     Spain -1.761660 -1.255409      Yes\n",
      "2   Germany -1.386395 -0.810141       No\n",
      "3     Spain -0.385689 -0.290661       No\n",
      "4   Germany -0.135512       NaN      Yes\n",
      "5    France -0.760954 -0.513295      Yes\n",
      "6     Spain       NaN -0.958563       No\n",
      "7       NaN  0.865194  1.045143      Yes\n",
      "8   Germany  1.115370  1.341989       No\n",
      "9     India  0.114664  1.490411      Yes\n",
      "10    Spain  1.990988       NaN      Yes\n",
      "11   France       NaN -0.216450       No\n",
      "12    India  0.239752  1.045143      Yes\n",
      "13  Germany -0.260601 -1.403831       No\n"
     ]
    }
   ],
   "source": [
    "#Initialize the StandardScaler\n",
    "scaler=StandardScaler()\n",
    "#Feature Scaling\n",
    "#scaler=StandardScaler()\n",
    "df[['Age','Salary']]=scaler.fit_transform(df[['Age','Salary']])\n",
    "print(df)"
   ]
  },
  {
   "cell_type": "code",
   "execution_count": 4,
   "id": "48fe3706-fd9d-4703-81eb-bbc8a7e8c60e",
   "metadata": {},
   "outputs": [
    {
     "name": "stdout",
     "output_type": "stream",
     "text": [
      "    Country       Age    Salary Purchase\n",
      "0    France  0.566667  0.666667       No\n",
      "1     Spain  0.000000  0.051282      Yes\n",
      "2   Germany  0.100000  0.205128       No\n",
      "3     Spain  0.366667  0.384615       No\n",
      "4   Germany  0.433333       NaN      Yes\n",
      "5    France  0.266667  0.307692      Yes\n",
      "6     Spain       NaN  0.153846       No\n",
      "7       NaN  0.700000  0.846154      Yes\n",
      "8   Germany  0.766667  0.948718       No\n",
      "9     India  0.500000  1.000000      Yes\n",
      "10    Spain  1.000000       NaN      Yes\n",
      "11   France       NaN  0.410256       No\n",
      "12    India  0.533333  0.846154      Yes\n",
      "13  Germany  0.400000  0.000000       No\n"
     ]
    }
   ],
   "source": [
    "scaler=MinMaxScaler()\n",
    "df[['Age','Salary']]=scaler.fit_transform(df[['Age','Salary']])\n",
    "print(df)"
   ]
  },
  {
   "cell_type": "code",
   "execution_count": 5,
   "id": "4ed4b8fc-9e03-443c-9830-6dec59b8ac57",
   "metadata": {},
   "outputs": [
    {
     "name": "stdout",
     "output_type": "stream",
     "text": [
      "    Country       Age    Salary Purchase\n",
      "0         0  0.566667  0.666667       No\n",
      "1         3  0.000000  0.051282      Yes\n",
      "2         1  0.100000  0.205128       No\n",
      "3         3  0.366667  0.384615       No\n",
      "4         1  0.433333       NaN      Yes\n",
      "5         0  0.266667  0.307692      Yes\n",
      "6         3       NaN  0.153846       No\n",
      "7         4  0.700000  0.846154      Yes\n",
      "8         1  0.766667  0.948718       No\n",
      "9         2  0.500000  1.000000      Yes\n",
      "10        3  1.000000       NaN      Yes\n",
      "11        0       NaN  0.410256       No\n",
      "12        2  0.533333  0.846154      Yes\n",
      "13        1  0.400000  0.000000       No\n"
     ]
    }
   ],
   "source": [
    "label_encoder=LabelEncoder()\n",
    "df['Country']=label_encoder.fit_transform(df['Country'])\n",
    "print(df)"
   ]
  },
  {
   "cell_type": "code",
   "execution_count": 7,
   "id": "1671e88f-a34b-4439-b859-67a2ecebaca7",
   "metadata": {},
   "outputs": [
    {
     "name": "stdout",
     "output_type": "stream",
     "text": [
      "    Country       Age    Salary  Purchase\n",
      "0         0  0.566667  0.666667         0\n",
      "1         3  0.000000  0.051282         1\n",
      "2         1  0.100000  0.205128         0\n",
      "3         3  0.366667  0.384615         0\n",
      "4         1  0.433333       NaN         1\n",
      "5         0  0.266667  0.307692         1\n",
      "6         3       NaN  0.153846         0\n",
      "7         4  0.700000  0.846154         1\n",
      "8         1  0.766667  0.948718         0\n",
      "9         2  0.500000  1.000000         1\n",
      "10        3  1.000000       NaN         1\n",
      "11        0       NaN  0.410256         0\n",
      "12        2  0.533333  0.846154         1\n",
      "13        1  0.400000  0.000000         0\n"
     ]
    }
   ],
   "source": [
    "label_encoder=LabelEncoder()\n",
    "df['Purchase']=label_encoder.fit_transform(df['Purchase'])\n",
    "print(df)"
   ]
  },
  {
   "cell_type": "code",
   "execution_count": 8,
   "id": "59d948af-b636-4fd9-bf42-1ac3e67a7804",
   "metadata": {},
   "outputs": [
    {
     "name": "stdout",
     "output_type": "stream",
     "text": [
      "[[1. 0. 0. 0. 0.]\n",
      " [0. 0. 0. 1. 0.]\n",
      " [0. 1. 0. 0. 0.]\n",
      " [0. 0. 0. 1. 0.]\n",
      " [0. 1. 0. 0. 0.]\n",
      " [1. 0. 0. 0. 0.]\n",
      " [0. 0. 0. 1. 0.]\n",
      " [0. 0. 0. 0. 1.]\n",
      " [0. 1. 0. 0. 0.]\n",
      " [0. 0. 1. 0. 0.]\n",
      " [0. 0. 0. 1. 0.]\n",
      " [1. 0. 0. 0. 0.]\n",
      " [0. 0. 1. 0. 0.]\n",
      " [0. 1. 0. 0. 0.]]\n"
     ]
    }
   ],
   "source": [
    "ohe = OneHotEncoder()\n",
    "country_encoded = ohe.fit_transform(df[['Country']]).toarray()\n",
    "print(country_encoded)\n",
    "                          "
   ]
  },
  {
   "cell_type": "code",
   "execution_count": 9,
   "id": "a86d9c35-9b7f-41bf-88ac-aeeedbb0c65d",
   "metadata": {},
   "outputs": [
    {
     "data": {
      "text/html": [
       "<div>\n",
       "<style scoped>\n",
       "    .dataframe tbody tr th:only-of-type {\n",
       "        vertical-align: middle;\n",
       "    }\n",
       "\n",
       "    .dataframe tbody tr th {\n",
       "        vertical-align: top;\n",
       "    }\n",
       "\n",
       "    .dataframe thead th {\n",
       "        text-align: right;\n",
       "    }\n",
       "</style>\n",
       "<table border=\"1\" class=\"dataframe\">\n",
       "  <thead>\n",
       "    <tr style=\"text-align: right;\">\n",
       "      <th></th>\n",
       "      <th>Country</th>\n",
       "      <th>Age</th>\n",
       "      <th>Salary</th>\n",
       "      <th>Purchase</th>\n",
       "    </tr>\n",
       "  </thead>\n",
       "  <tbody>\n",
       "    <tr>\n",
       "      <th>Country</th>\n",
       "      <td>1.000000</td>\n",
       "      <td>0.204978</td>\n",
       "      <td>0.054978</td>\n",
       "      <td>0.335410</td>\n",
       "    </tr>\n",
       "    <tr>\n",
       "      <th>Age</th>\n",
       "      <td>0.204978</td>\n",
       "      <td>1.000000</td>\n",
       "      <td>0.813185</td>\n",
       "      <td>0.093385</td>\n",
       "    </tr>\n",
       "    <tr>\n",
       "      <th>Salary</th>\n",
       "      <td>0.054978</td>\n",
       "      <td>0.813185</td>\n",
       "      <td>1.000000</td>\n",
       "      <td>0.306283</td>\n",
       "    </tr>\n",
       "    <tr>\n",
       "      <th>Purchase</th>\n",
       "      <td>0.335410</td>\n",
       "      <td>0.093385</td>\n",
       "      <td>0.306283</td>\n",
       "      <td>1.000000</td>\n",
       "    </tr>\n",
       "  </tbody>\n",
       "</table>\n",
       "</div>"
      ],
      "text/plain": [
       "           Country       Age    Salary  Purchase\n",
       "Country   1.000000  0.204978  0.054978  0.335410\n",
       "Age       0.204978  1.000000  0.813185  0.093385\n",
       "Salary    0.054978  0.813185  1.000000  0.306283\n",
       "Purchase  0.335410  0.093385  0.306283  1.000000"
      ]
     },
     "execution_count": 9,
     "metadata": {},
     "output_type": "execute_result"
    }
   ],
   "source": [
    "#1.Attribute Selection\n",
    "#Correlation matrix : \n",
    "df.corr(method='pearson')"
   ]
  },
  {
   "cell_type": "code",
   "execution_count": 10,
   "id": "51a89ba2-cc3d-48fc-ae5c-b2d0ca88a5bc",
   "metadata": {},
   "outputs": [
    {
     "data": {
      "text/plain": [
       "<Axes: >"
      ]
     },
     "execution_count": 10,
     "metadata": {},
     "output_type": "execute_result"
    },
    {
     "data": {
      "image/png": "[encoded data removed]",
      "text/plain": [
       "<Figure size 640x480 with 2 Axes>"
      ]
     },
     "metadata": {},
     "output_type": "display_data"
    }
   ],
   "source": [
    "#heatmap  \n",
    "import seaborn as sns \n",
    "sns.heatmap(df.corr(),annot=True)"
   ]
  },
  {
   "cell_type": "code",
   "execution_count": 11,
   "id": "22e2cfca-18f6-43e2-8c8e-fc5a9e59562f",
   "metadata": {},
   "outputs": [],
   "source": [
    "#for categorical :chi-square test \n",
    "from sklearn.feature_selection import chi2 \n",
    "from sklearn.preprocessing import LabelEncoder \n",
    "from sklearn.model_selection import train_test_split \n",
    "import pandas as pd"
   ]
  },
  {
   "cell_type": "code",
   "execution_count": 12,
   "id": "dda170ea-45b0-43f8-9213-b7c510e91618",
   "metadata": {},
   "outputs": [
    {
     "data": {
      "text/html": [
       "<div>\n",
       "<style scoped>\n",
       "    .dataframe tbody tr th:only-of-type {\n",
       "        vertical-align: middle;\n",
       "    }\n",
       "\n",
       "    .dataframe tbody tr th {\n",
       "        vertical-align: top;\n",
       "    }\n",
       "\n",
       "    .dataframe thead th {\n",
       "        text-align: right;\n",
       "    }\n",
       "</style>\n",
       "<table border=\"1\" class=\"dataframe\">\n",
       "  <thead>\n",
       "    <tr style=\"text-align: right;\">\n",
       "      <th></th>\n",
       "      <th>Country</th>\n",
       "      <th>Age</th>\n",
       "      <th>Salary</th>\n",
       "      <th>Purchase</th>\n",
       "    </tr>\n",
       "  </thead>\n",
       "  <tbody>\n",
       "    <tr>\n",
       "      <th>0</th>\n",
       "      <td>0</td>\n",
       "      <td>0.566667</td>\n",
       "      <td>0.666667</td>\n",
       "      <td>0</td>\n",
       "    </tr>\n",
       "    <tr>\n",
       "      <th>1</th>\n",
       "      <td>3</td>\n",
       "      <td>0.000000</td>\n",
       "      <td>0.051282</td>\n",
       "      <td>1</td>\n",
       "    </tr>\n",
       "    <tr>\n",
       "      <th>2</th>\n",
       "      <td>1</td>\n",
       "      <td>0.100000</td>\n",
       "      <td>0.205128</td>\n",
       "      <td>0</td>\n",
       "    </tr>\n",
       "    <tr>\n",
       "      <th>3</th>\n",
       "      <td>3</td>\n",
       "      <td>0.366667</td>\n",
       "      <td>0.384615</td>\n",
       "      <td>0</td>\n",
       "    </tr>\n",
       "    <tr>\n",
       "      <th>4</th>\n",
       "      <td>1</td>\n",
       "      <td>0.433333</td>\n",
       "      <td>NaN</td>\n",
       "      <td>1</td>\n",
       "    </tr>\n",
       "    <tr>\n",
       "      <th>5</th>\n",
       "      <td>0</td>\n",
       "      <td>0.266667</td>\n",
       "      <td>0.307692</td>\n",
       "      <td>1</td>\n",
       "    </tr>\n",
       "    <tr>\n",
       "      <th>6</th>\n",
       "      <td>3</td>\n",
       "      <td>NaN</td>\n",
       "      <td>0.153846</td>\n",
       "      <td>0</td>\n",
       "    </tr>\n",
       "    <tr>\n",
       "      <th>7</th>\n",
       "      <td>4</td>\n",
       "      <td>0.700000</td>\n",
       "      <td>0.846154</td>\n",
       "      <td>1</td>\n",
       "    </tr>\n",
       "    <tr>\n",
       "      <th>8</th>\n",
       "      <td>1</td>\n",
       "      <td>0.766667</td>\n",
       "      <td>0.948718</td>\n",
       "      <td>0</td>\n",
       "    </tr>\n",
       "    <tr>\n",
       "      <th>9</th>\n",
       "      <td>2</td>\n",
       "      <td>0.500000</td>\n",
       "      <td>1.000000</td>\n",
       "      <td>1</td>\n",
       "    </tr>\n",
       "    <tr>\n",
       "      <th>10</th>\n",
       "      <td>3</td>\n",
       "      <td>1.000000</td>\n",
       "      <td>NaN</td>\n",
       "      <td>1</td>\n",
       "    </tr>\n",
       "    <tr>\n",
       "      <th>11</th>\n",
       "      <td>0</td>\n",
       "      <td>NaN</td>\n",
       "      <td>0.410256</td>\n",
       "      <td>0</td>\n",
       "    </tr>\n",
       "    <tr>\n",
       "      <th>12</th>\n",
       "      <td>2</td>\n",
       "      <td>0.533333</td>\n",
       "      <td>0.846154</td>\n",
       "      <td>1</td>\n",
       "    </tr>\n",
       "    <tr>\n",
       "      <th>13</th>\n",
       "      <td>1</td>\n",
       "      <td>0.400000</td>\n",
       "      <td>0.000000</td>\n",
       "      <td>0</td>\n",
       "    </tr>\n",
       "  </tbody>\n",
       "</table>\n",
       "</div>"
      ],
      "text/plain": [
       "    Country       Age    Salary  Purchase\n",
       "0         0  0.566667  0.666667         0\n",
       "1         3  0.000000  0.051282         1\n",
       "2         1  0.100000  0.205128         0\n",
       "3         3  0.366667  0.384615         0\n",
       "4         1  0.433333       NaN         1\n",
       "5         0  0.266667  0.307692         1\n",
       "6         3       NaN  0.153846         0\n",
       "7         4  0.700000  0.846154         1\n",
       "8         1  0.766667  0.948718         0\n",
       "9         2  0.500000  1.000000         1\n",
       "10        3  1.000000       NaN         1\n",
       "11        0       NaN  0.410256         0\n",
       "12        2  0.533333  0.846154         1\n",
       "13        1  0.400000  0.000000         0"
      ]
     },
     "execution_count": 12,
     "metadata": {},
     "output_type": "execute_result"
    }
   ],
   "source": [
    "X = df.iloc[:,0:4] # Features \n",
    "y = df.iloc[:,-1]  # Target variable\n",
    "X"
   ]
  },
  {
   "cell_type": "code",
   "execution_count": 13,
   "id": "38920965-8612-4cd1-9f67-2666788db99d",
   "metadata": {},
   "outputs": [],
   "source": [
    "X_encoded = X.apply(LabelEncoder().fit_transform) "
   ]
  },
  {
   "cell_type": "code",
   "execution_count": 14,
   "id": "1c15f9c2-cfff-4bb7-8fdf-860ff9d62e39",
   "metadata": {},
   "outputs": [],
   "source": [
    "chi2_values, p_values = chi2(X_encoded, y)"
   ]
  },
  {
   "cell_type": "code",
   "execution_count": 15,
   "id": "bcdf7343-db9c-4955-ae1b-b5cc3a233527",
   "metadata": {},
   "outputs": [],
   "source": [
    "chi2_results = pd.DataFrame({ \n",
    "'Feature': X.columns,\n",
    "'Chi-Square Value': chi2_values, \n",
    "'P-Value': p_values \n",
    "})"
   ]
  },
  {
   "cell_type": "code",
   "execution_count": 16,
   "id": "967f5ede-0820-4eaf-aab9-ae2ef20602cf",
   "metadata": {},
   "outputs": [
    {
     "name": "stdout",
     "output_type": "stream",
     "text": [
      "    Feature  Chi-Square Value   P-Value\n",
      "0   Country          1.500000  0.220671\n",
      "1       Age          1.111111  0.291841\n",
      "2    Salary          5.188235  0.022740\n",
      "3  Purchase          7.000000  0.008151\n"
     ]
    }
   ],
   "source": [
    "print(chi2_results)"
   ]
  },
  {
   "cell_type": "code",
   "execution_count": 17,
   "id": "53a305a1-40ff-444c-987c-0d83de9944d2",
   "metadata": {},
   "outputs": [
    {
     "name": "stdout",
     "output_type": "stream",
     "text": [
      "Selected Features based on Chi-Square test: 2      Salary\n",
      "3    Purchase\n",
      "Name: Feature, dtype: object\n"
     ]
    }
   ],
   "source": [
    "selected_features = chi2_results[chi2_results['P-Value'] < 0.05]['Feature'] \n",
    "print(\"Selected Features based on Chi-Square test:\", selected_features)"
   ]
  },
  {
   "cell_type": "code",
   "execution_count": 18,
   "id": "1c41ebe1-69e5-41d6-a640-4fe8f2956c46",
   "metadata": {},
   "outputs": [
    {
     "data": {
      "text/plain": [
       "Country     0\n",
       "Age         2\n",
       "Salary      2\n",
       "Purchase    0\n",
       "dtype: int64"
      ]
     },
     "execution_count": 18,
     "metadata": {},
     "output_type": "execute_result"
    }
   ],
   "source": [
    "#2.Handling Missing values\n",
    "df.isnull().sum()"
   ]
  },
  {
   "cell_type": "code",
   "execution_count": 19,
   "id": "74b02b34-122a-4b2a-bc7e-fcc2030ceb98",
   "metadata": {},
   "outputs": [
    {
     "name": "stdout",
     "output_type": "stream",
     "text": [
      "0     0.566667\n",
      "1     0.000000\n",
      "2     0.100000\n",
      "3     0.366667\n",
      "4     0.433333\n",
      "5     0.266667\n",
      "6     0.469444\n",
      "7     0.700000\n",
      "8     0.766667\n",
      "9     0.500000\n",
      "10    1.000000\n",
      "11    0.469444\n",
      "12    0.533333\n",
      "13    0.400000\n",
      "Name: Age, dtype: float64\n",
      "0     0.666667\n",
      "1     0.051282\n",
      "2     0.205128\n",
      "3     0.384615\n",
      "4     0.485043\n",
      "5     0.307692\n",
      "6     0.153846\n",
      "7     0.846154\n",
      "8     0.948718\n",
      "9     1.000000\n",
      "10    0.485043\n",
      "11    0.410256\n",
      "12    0.846154\n",
      "13    0.000000\n",
      "Name: Salary, dtype: float64\n"
     ]
    }
   ],
   "source": [
    "age=df['Age'].fillna(df['Age'].mean())\n",
    "salary=df['Salary'].fillna(df['Salary'].mean())\n",
    "print(age)\n",
    "print(salary)"
   ]
  },
  {
   "cell_type": "code",
   "execution_count": 20,
   "id": "edaf3954-b2ad-4826-bca0-cc8aaf2175cb",
   "metadata": {},
   "outputs": [
    {
     "name": "stdout",
     "output_type": "stream",
     "text": [
      "    Country       Age    Salary  Purchase\n",
      "0         0  0.566667  0.666667         0\n",
      "1         3  0.000000  0.051282         1\n",
      "2         1  0.100000  0.205128         0\n",
      "3         3  0.366667  0.384615         0\n",
      "5         0  0.266667  0.307692         1\n",
      "7         4  0.700000  0.846154         1\n",
      "8         1  0.766667  0.948718         0\n",
      "9         2  0.500000  1.000000         1\n",
      "12        2  0.533333  0.846154         1\n",
      "13        1  0.400000  0.000000         0\n"
     ]
    }
   ],
   "source": [
    "# Dropping Records\n",
    "print(df.dropna())#inplace=True"
   ]
  },
  {
   "cell_type": "code",
   "execution_count": 21,
   "id": "0b7f546e-6154-41b8-8303-cfef5188d623",
   "metadata": {},
   "outputs": [
    {
     "name": "stdout",
     "output_type": "stream",
     "text": [
      "0     0\n",
      "1     3\n",
      "2     1\n",
      "3     3\n",
      "4     1\n",
      "5     0\n",
      "6     3\n",
      "7     4\n",
      "8     1\n",
      "9     2\n",
      "10    3\n",
      "11    0\n",
      "12    2\n",
      "13    1\n",
      "Name: Country, dtype: int64\n"
     ]
    }
   ],
   "source": [
    "country=df['Country'].fillna(df['Country'].mode())\n",
    "print(country)"
   ]
  },
  {
   "cell_type": "code",
   "execution_count": 22,
   "id": "bd7d3d36-c0be-4dee-b73b-83387accf762",
   "metadata": {},
   "outputs": [
    {
     "name": "stdout",
     "output_type": "stream",
     "text": [
      "0     Middle\n",
      "1      Young\n",
      "2      Young\n",
      "3     Middle\n",
      "4     Middle\n",
      "5      Young\n",
      "6        NaN\n",
      "7        Old\n",
      "8        Old\n",
      "9     Middle\n",
      "10       Old\n",
      "11       NaN\n",
      "12    Middle\n",
      "13    Middle\n",
      "Name: Age, dtype: category\n",
      "Categories (3, object): ['Young' < 'Middle' < 'Old']\n"
     ]
    }
   ],
   "source": [
    "#3.Discretization: \n",
    "age_bins = pd.cut(df['Age'], bins=3, labels=['Young', 'Middle', 'Old']) \n",
    "print(age_bins) "
   ]
  },
  {
   "cell_type": "code",
   "execution_count": 23,
   "id": "8b5f61f6-2f23-4c44-b9ab-876da31a2fa2",
   "metadata": {},
   "outputs": [
    {
     "data": {
      "image/png": "[encoded data removed]",
      "text/plain": [
       "<Figure size 640x480 with 1 Axes>"
      ]
     },
     "metadata": {},
     "output_type": "display_data"
    },
    {
     "data": {
      "image/png": "[encoded data removed]",
      "text/plain": [
       "<Figure size 640x480 with 1 Axes>"
      ]
     },
     "metadata": {},
     "output_type": "display_data"
    }
   ],
   "source": [
    "#4.Outlier Detection \n",
    "import pandas as pd\n",
    "import matplotlib.pyplot as plt\n",
    "import seaborn as sns\n",
    "data = {'Age': [18, 19, 20, 21, 22, 23, 100, 25, 26, 27, 150]}  # 100 and 150 are  \n",
    "df = pd.DataFrame(data) \n",
    "sns.boxplot(x=df['Age']) \n",
    "plt.show() \n",
    "sns.histplot(x=df['Age']) \n",
    "plt.show()"
   ]
  },
  {
   "cell_type": "code",
   "execution_count": 24,
   "id": "9ad4660b-261b-439e-a3a0-8ef917b3bd66",
   "metadata": {},
   "outputs": [],
   "source": [
    "# Calculate Q1 (25th percentile) and Q3 (75th percentile) \n",
    "Q1 = df[\"Age\"].quantile(0.25) \n",
    "Q3 = df[\"Age\"].quantile(0.75) \n",
    "IQR = Q3 - Q1"
   ]
  },
  {
   "cell_type": "code",
   "execution_count": 25,
   "id": "de1dc808-7323-42dc-b8a7-72550def66aa",
   "metadata": {},
   "outputs": [],
   "source": [
    "# Define lower and upper bounds \n",
    "lower_bound = Q1 - 1.5 * IQR \n",
    "upper_bound = Q3 + 1.5 * IQR "
   ]
  },
  {
   "cell_type": "code",
   "execution_count": 26,
   "id": "b5151c06-6af1-468f-9574-dc51ae829d3d",
   "metadata": {},
   "outputs": [
    {
     "name": "stdout",
     "output_type": "stream",
     "text": [
      "Outliers:\n",
      "     Age\n",
      "6   100\n",
      "10  150\n"
     ]
    }
   ],
   "source": [
    "# Find outliers \n",
    "outliers = df[(df[\"Age\"] < lower_bound) | (df[\"Age\"] > upper_bound)] \n",
    "print(\"Outliers:\\n\", outliers) "
   ]
  },
  {
   "cell_type": "code",
   "execution_count": 27,
   "id": "4f7b7b63-5bf1-4372-9557-a6700f7aa121",
   "metadata": {},
   "outputs": [
    {
     "name": "stdout",
     "output_type": "stream",
     "text": [
      "Cleaned Data:\n",
      "    Age\n",
      "0   18\n",
      "1   19\n",
      "2   20\n",
      "3   21\n",
      "4   22\n",
      "5   23\n",
      "7   25\n",
      "8   26\n",
      "9   27\n"
     ]
    }
   ],
   "source": [
    "#print(df[\"Age\"]) \n",
    "df_clean = df[(df[\"Age\"] >= lower_bound) & (df[\"Age\"] <= upper_bound)] \n",
    "print(\"Cleaned Data:\\n\", df_clean) \n"
   ]
  },
  {
   "cell_type": "code",
   "execution_count": null,
   "id": "da0e30b1-db2d-4e27-8df8-8d5b5cf226eb",
   "metadata": {},
   "outputs": [],
   "source": []
  },
  {
   "cell_type": "code",
   "execution_count": null,
   "id": "4c78df89-3f20-48c0-9bb7-8e0f4f8ad3b6",
   "metadata": {},
   "outputs": [],
   "source": []
  },
  {
   "cell_type": "code",
   "execution_count": null,
   "id": "5e740d63-6b3f-4f8e-8b25-814fd9ae1898",
   "metadata": {},
   "outputs": [],
   "source": []
  },
  {
   "cell_type": "code",
   "execution_count": null,
   "id": "3896854a-0d78-4f1e-9da3-2fc3856265a4",
   "metadata": {},
   "outputs": [],
   "source": []
  },
  {
   "cell_type": "code",
   "execution_count": null,
   "id": "c0d2ff23-861f-45af-83ab-edf9f545655d",
   "metadata": {},
   "outputs": [],
   "source": [
    "\n"
   ]
  }
 ],
 "metadata": {
  "kernelspec": {
   "display_name": "Python 3 (ipykernel)",
   "language": "python",
   "name": "python3"
  },
  "language_info": {
   "codemirror_mode": {
    "name": "ipython",
    "version": 3
   },
   "file_extension": ".py",
   "mimetype": "text/x-python",
   "name": "python",
   "nbconvert_exporter": "python",
   "pygments_lexer": "ipython3",
   "version": "3.12.5"
  }
 },
 "nbformat": 4,
 "nbformat_minor": 5
}
